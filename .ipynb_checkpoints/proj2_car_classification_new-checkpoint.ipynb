{
 "cells": [
  {
   "cell_type": "markdown",
   "metadata": {
    "colab_type": "text",
    "id": "utcPLOa0Ot8r"
   },
   "source": [
    "# 1.introduction\n",
    "\n",
    "This project is about car classification for [stanford car dataset](https://ai.stanford.edu/~jkrause/cars/car_dataset.html). The Cars dataset contains 16,185 images of 196 classes of cars. The data is split into 8,144 training images and 8,041 testing images, where each class has been split roughly in a 50-50 split. Classes are typically at the level of Make, Model, Year, e.g. 2012 Tesla Model S or 2012 BMW M3 coupe.\n",
    "\n",
    "It is difficult to directly train deep learning model on this dataset because the limited number of images. Thus we decide to use transfer learning, a common approch used in deep learning to utilize the pretrained model on [imagenet](http://www.image-net.org/) and fine-tune on our own dataset, i.e. car dataset.\n",
    "\n",
    "This project can show you how to train and fine-tune a deep learning model using kera (tensorflow backend).\n",
    "\n",
    "![](https://ai.stanford.edu/~jkrause/cars/class_montage.jpg)"
   ]
  },
  {
   "cell_type": "markdown",
   "metadata": {
    "colab_type": "text",
    "id": "nXw-9h8vVtM-"
   },
   "source": [
    "## 1.1 Transfer Learning\n",
    "Transfer learning is one of the most widely used technologies in deep learning and computer vision. If you are not familar with the concept of transfer learning, please refer to our course materials.\n",
    "\n",
    "![](https://cdn-images-1.medium.com/max/2000/1*9GTEzcO8KxxrfutmtsPs3Q.png)"
   ]
  },
  {
   "cell_type": "markdown",
   "metadata": {
    "colab_type": "text",
    "id": "TQX6MYbnQswu"
   },
   "source": [
    "# 2.Import & read data"
   ]
  },
  {
   "cell_type": "markdown",
   "metadata": {
    "colab_type": "text",
    "id": "105nCy6QR3TK"
   },
   "source": [
    "## 2.1 mount google drive to colab"
   ]
  },
  {
   "cell_type": "code",
   "execution_count": 0,
   "metadata": {
    "colab": {},
    "colab_type": "code",
    "id": "6JmF_9B0Mydy"
   },
   "outputs": [],
   "source": [
    "# mount goolge drive to colab\n",
    "from google.colab import drive\n",
    "drive.mount('/content/drive')"
   ]
  },
  {
   "cell_type": "markdown",
   "metadata": {
    "colab_type": "text",
    "id": "by6UsW5wRBNm"
   },
   "source": [
    "## 2.2 Copy file from google drive to colab"
   ]
  },
  {
   "cell_type": "code",
   "execution_count": 1,
   "metadata": {
    "colab": {},
    "colab_type": "code",
    "id": "Xv-aPfnir3Wd"
   },
   "outputs": [
    {
     "name": "stderr",
     "output_type": "stream",
     "text": [
      "C:\\Users\\Troy\\Anaconda3\\envs\\tf\\lib\\site-packages\\h5py\\__init__.py:36: FutureWarning: Conversion of the second argument of issubdtype from `float` to `np.floating` is deprecated. In future, it will be treated as `np.float64 == np.dtype(float).type`.\n",
      "  from ._conv import register_converters as _register_converters\n"
     ]
    }
   ],
   "source": [
    "from tensorflow import gfile\n",
    "import os\n",
    "import zipfile\n",
    "import tarfile"
   ]
  },
  {
   "cell_type": "code",
   "execution_count": 0,
   "metadata": {
    "colab": {
     "base_uri": "https://localhost:8080/",
     "height": 88
    },
    "colab_type": "code",
    "id": "sUjMUUXHX6yK",
    "outputId": "4f83f8fe-967d-4647-d4aa-33c5bc650198"
   },
   "outputs": [
    {
     "name": "stdout",
     "output_type": "stream",
     "text": [
      "['.config', 'cifar-10-batches-py', 'checkpoint', 'preprocess_validation.p', 'preprocess_batch_4.p', 'preprocess_batch_3.p', 'image_classification.index', 'image_classification.data-00000-of-00001', 'image_classification.meta', 'preprocess_batch_5.p', 'car_dataset.tar', 'preprocess_batch_1.p', 'drive', 'preprocess_batch_2.p', 'preprocess_training.p', 'cifar-10-python.tar.gz', 'sample_data']\n",
      "CPU times: user 0 ns, sys: 5.16 s, total: 5.16 s\n",
      "Wall time: 1min 8s\n"
     ]
    }
   ],
   "source": [
    "%%time\n",
    "if os.path.exists(\"drive/My Drive/car_dataset.tar\"):\n",
    "  gfile.Copy(\"drive/My Drive/car_dataset.tar\", \"./car_dataset.tar\", )\n",
    "print(os.listdir(\".\"))"
   ]
  },
  {
   "cell_type": "markdown",
   "metadata": {
    "colab_type": "text",
    "id": "hwNfXQOvRRyy"
   },
   "source": [
    "## 2.3 Extract dataset files"
   ]
  },
  {
   "cell_type": "code",
   "execution_count": 0,
   "metadata": {
    "colab": {
     "base_uri": "https://localhost:8080/",
     "height": 51
    },
    "colab_type": "code",
    "id": "vYckpehU4u8O",
    "outputId": "87d480fb-6f4a-4e35-aee4-e8abf4c61afc"
   },
   "outputs": [
    {
     "name": "stdout",
     "output_type": "stream",
     "text": [
      "CPU times: user 6.69 s, sys: 9.99 s, total: 16.7 s\n",
      "Wall time: 45 s\n"
     ]
    }
   ],
   "source": [
    "%%time\n",
    "tar = tarfile.open(\"./car_dataset.tar\", \"r\")\n",
    "tar.extractall(path=\".\")"
   ]
  },
  {
   "cell_type": "code",
   "execution_count": 0,
   "metadata": {
    "colab": {
     "base_uri": "https://localhost:8080/",
     "height": 34
    },
    "colab_type": "code",
    "id": "-hFcV9hR5h4T",
    "outputId": "eaa811f8-5094-440f-83b5-e3917ad9c198"
   },
   "outputs": [
    {
     "name": "stdout",
     "output_type": "stream",
     "text": [
      "['cars_train', 'test', 'cars_test', 'devkit', 'train', 'read_label.py', '.DS_Store']\n"
     ]
    }
   ],
   "source": [
    "print(os.listdir(\"./car_dataset\"))"
   ]
  },
  {
   "cell_type": "markdown",
   "metadata": {
    "colab_type": "text",
    "id": "gFh72b__R9Cd"
   },
   "source": [
    "# 3.Build model"
   ]
  },
  {
   "cell_type": "markdown",
   "metadata": {
    "colab_type": "text",
    "id": "zrbjT9XNSHaF"
   },
   "source": [
    "## 3.1 Load packages\n",
    "\n",
    "The keras and tensorflow have been pre-installled on colab, and we do not need re-install these packages."
   ]
  },
  {
   "cell_type": "code",
   "execution_count": 0,
   "metadata": {
    "colab": {},
    "colab_type": "code",
    "id": "Ll778O7XWLN0"
   },
   "outputs": [],
   "source": [
    "from keras.preprocessing import image\n",
    "from keras.applications import vgg16\n",
    "from keras.applications import vgg19\n",
    "from keras.applications import resnet50\n",
    "from keras.applications import inception_v3\n",
    "from keras.layers import GlobalAveragePooling2D, Dense, Dropout, Flatten\n",
    "from keras.models import Model,Sequential\n",
    "from keras import optimizers\n",
    "from keras.callbacks import TensorBoard, ModelCheckpoint, EarlyStopping\n",
    "# import argparse\n",
    "from time import time\n",
    "\n",
    "from skimage import exposure, color\n",
    "\n",
    "from keras import backend as K\n",
    "K.set_image_dim_ordering('tf')"
   ]
  },
  {
   "cell_type": "markdown",
   "metadata": {
    "colab_type": "text",
    "id": "_BVSYj_zSuKP"
   },
   "source": [
    "## 3.2 Initalize model\n",
    "In this step, we will initalize our architecture. We use predefined architectures such as resnet50/vgg19/inception, you can also use your own architectures."
   ]
  },
  {
   "cell_type": "code",
   "execution_count": 0,
   "metadata": {
    "colab": {},
    "colab_type": "code",
    "id": "RNb0uGI7uHxF"
   },
   "outputs": [],
   "source": [
    "def init_model(train_dir, val_dir, batch_size=32, model_name='resnet50', num_class=196, img_size=224):\n",
    "    \"\"\"\n",
    "    initialize cnn model and training and validation data generator\n",
    "    parms:\n",
    "        args: parsed commandline arguments\n",
    "    return:\n",
    "        model: initialized model\n",
    "        train_generator: training data generator\n",
    "        validation_generator: validation data generator\n",
    "    \"\"\"\n",
    "    \n",
    "\n",
    "    print('loading the model and the pre-trained weights...')\n",
    "\n",
    "    # load base model\n",
    "    if model_name == 'vgg19':\n",
    "        base_model = vgg19.VGG19(include_top=False, weights='imagenet', input_shape = (img_size, img_size, 3)) # need specify input_shape\n",
    "        # this preprocess_input is the default preprocess func for given network, you can change it or implement your own \n",
    "        # use inception_v3 preprocess for vgg16, it seems that it works better than vgg16.preprocess_input\n",
    "        preprocess_input = vgg19.preprocess_input\n",
    "        \n",
    "    if model_name == 'vgg16':\n",
    "        base_model = vgg16.VGG16(include_top=False, weights='imagenet', input_shape = (img_size, img_size, 3)) # need specify input_shape\n",
    "        # this preprocess_input is the default preprocess func for given network, you can change it or implement your own \n",
    "        # use inception_v3 preprocess for vgg16, it seems that it works better than vgg16.preprocess_input\n",
    "        preprocess_input = vgg16.preprocess_input\n",
    "\n",
    "    # initalize training image data generator\n",
    "    # you can also specify data augmentation here\n",
    "    train_datagen = image.ImageDataGenerator(\n",
    "        # width_shift_range=0.1,\n",
    "        # height_shift_range=0.1,\n",
    "        # samplewise_center=True,\n",
    "        # samplewise_std_normalization=True,\n",
    "        # rescale=1./255,\n",
    "        preprocessing_function=preprocess_input,\n",
    "        # rotation_range=30,\n",
    "        # shear_range=0.1,\n",
    "        # zoom_range=0.1,\n",
    "        # vertical_flip=True,\n",
    "        horizontal_flip=True\n",
    "        )\n",
    "\n",
    "    # initalize validation image data generator\n",
    "    # you can also specify data augmentation here\n",
    "    validation_datagen = image.ImageDataGenerator(\n",
    "        # samplewise_center=True,\n",
    "        # samplewise_std_normalization=True\n",
    "        # rescale=1./255\n",
    "        preprocessing_function=preprocess_input # preprocess_input\n",
    "        )\n",
    "\n",
    "    train_generator = train_datagen.flow_from_directory(\n",
    "        train_dir,\n",
    "        target_size=(img_size, img_size),\n",
    "        batch_size=batch_size,\n",
    "        class_mode='categorical')     \n",
    "\n",
    "    validation_generator = validation_datagen.flow_from_directory(\n",
    "        val_dir,\n",
    "        # color_mode='grayscale',  # 'rgb'\n",
    "        target_size=(img_size, img_size),\n",
    "        batch_size=batch_size,\n",
    "        class_mode='categorical')\n",
    "\n",
    "    # fix base_model layers\n",
    "    for layer in base_model.layers:\n",
    "        layer.trainable = False\n",
    "\n",
    "    # added some customized layers for your own data\n",
    "    x = base_model.output\n",
    "    if model_name == 'vgg19':\n",
    "        x = GlobalAveragePooling2D(name='avg_pool')(x)\n",
    "        # x = Flatten(name='flatten')(x)\n",
    "        # x = Dense(512, activation='relu', name='fc1-pretrain')(x)\n",
    "        x = Dense(256, activation='relu', name='fc2-pretrain')(x)\n",
    "        x = Dropout(0.3, name='dropout')(x)\n",
    "    if model_name == 'vgg16':\n",
    "        x = GlobalAveragePooling2D(name='avg_pool')(x)\n",
    "        # x = Flatten(name='flatten')(x)\n",
    "        # x = Dense(512, activation='relu', name='fc1-pretrain')(x)\n",
    "        x = Dense(256, activation='relu', name='fc2-pretrain')(x)\n",
    "        x = Dropout(0.3, name='dropout')(x)\n",
    "\n",
    "    # added softmax layer\n",
    "    predictions = Dense(num_class, activation='softmax', name='predictions')(x)\n",
    "\n",
    "    model = Model(inputs=base_model.input, outputs=predictions)\n",
    "    \n",
    "    sgd = optimizers.SGD(lr=0.01, decay=1e-6, momentum=0.9, nesterov=True)\n",
    "    adam = optimizers.Adam()\n",
    "    # model.compile(loss='mean_squared_error', optimizer=sgd)\n",
    "    model.compile(loss=\"categorical_crossentropy\", optimizer=adam, metrics=[\"accuracy\"])\n",
    "\n",
    "    return model, train_generator, validation_generator"
   ]
  },
  {
   "cell_type": "markdown",
   "metadata": {
    "colab_type": "text",
    "id": "GRiaN8q5TLNb"
   },
   "source": [
    "## 3.3 train model\n",
    "This part defines the function to train our model. We can specify the training parameters such as number of epochs, optimizers, and etc here."
   ]
  },
  {
   "cell_type": "code",
   "execution_count": 0,
   "metadata": {
    "colab": {},
    "colab_type": "code",
    "id": "n_r-lCXKuXbB"
   },
   "outputs": [],
   "source": [
    "def train(model, train_generator, validation_generator, num_class=196, model_name='resnet50', batch_size=32, epochs=30, suffix='laioffer'):\n",
    "    \"\"\"\n",
    "    train the model\n",
    "    parms:\n",
    "        model: initialized model\n",
    "        train_generator: training data generator\n",
    "        validation_generator: validation data generator\n",
    "        args: parsed command line arguments\n",
    "    return:\n",
    "    \"\"\"\n",
    "    # define number of steps/iterators per epoch\n",
    "    stepsPerEpoch = train_generator.samples / batch_size\n",
    "    validationSteps= validation_generator.samples / batch_size\n",
    "\n",
    "    # save the snapshot of the model to local drive\n",
    "    pretrain_model_name = 'pretrained_{}_{}_{}_{}.h5'.format(model_name, num_class, epochs, suffix)\n",
    "    # visualize the training process\n",
    "    tensorboard = TensorBoard(log_dir=\"logs/{}_pretrain_{}\".format(model_name, time()), histogram_freq=0, write_graph=True)\n",
    "    checkpoint = ModelCheckpoint(pretrain_model_name, monitor='val_acc', verbose=1, save_best_only=True, save_weights_only=False, mode='auto', period=1)\n",
    "    earlystopping = EarlyStopping(monitor='acc', patience=5)\n",
    "    callbacks_list = [checkpoint, tensorboard, earlystopping]\n",
    "\n",
    "    history = model.fit_generator(\n",
    "        train_generator,\n",
    "        steps_per_epoch=stepsPerEpoch,\n",
    "        epochs=epochs,\n",
    "        callbacks = callbacks_list,\n",
    "        validation_data = validation_generator,\n",
    "        validation_steps=validationSteps)\n",
    "    return history"
   ]
  },
  {
   "cell_type": "markdown",
   "metadata": {
    "colab_type": "text",
    "id": "VffEttnvTo9r"
   },
   "source": [
    "## 3.4 Fine-tune model\n",
    "This part defines the function to fine-tune the pre-trained model on our datset. If you do not have enough data, you may consider fine-tune less layers."
   ]
  },
  {
   "cell_type": "code",
   "execution_count": 0,
   "metadata": {
    "colab": {},
    "colab_type": "code",
    "id": "LSAFORczK7pU"
   },
   "outputs": [],
   "source": [
    " def fine_tune(model, train_generator, validation_generator, num_class=196, model_name='resnet50', batch_size=32, epochs=50, suffix='laioffer'):\n",
    "    \"\"\"\n",
    "    fine tune the model\n",
    "    parms:\n",
    "        model: initialized model\n",
    "        train_generator: training data generator\n",
    "        validation_generator: validation data generator\n",
    "        args: parsed command line arguments\n",
    "    return:\n",
    "    \"\"\"\n",
    "    # for specific architectures, define number of trainable layers\n",
    "    if model_name == 'vgg19':\n",
    "        trainable_layers = 6\n",
    "\n",
    "    for layer in model.layers[:-1*trainable_layers]:\n",
    "        layer.trainable = False\n",
    "\n",
    "    for layer in model.layers[-1*trainable_layers:]:\n",
    "        layer.trainable = True\n",
    "\n",
    "    finetune_model_name = 'finetuned_{}_{}_{}_{}.h5'.format(model_name, num_class, epochs, suffix)\n",
    "    tensorboard = TensorBoard(log_dir=\"logs/{}_finetune_{}\".format(model_name, time()), histogram_freq=0, write_graph=True)\n",
    "    checkpoint = ModelCheckpoint(finetune_model_name, monitor='val_acc', verbose=1, save_best_only=True, save_weights_only=False, mode='auto', period=1)\n",
    "    earlystopping = EarlyStopping(monitor='acc', patience=5)\n",
    "    callbacks_list = [checkpoint, tensorboard, earlystopping]\n",
    "\n",
    "    model.compile(loss=\"categorical_crossentropy\", optimizer=optimizers.SGD(lr=0.0001, momentum=0.9),metrics=[\"accuracy\"])\n",
    "\n",
    "    stepsPerEpoch = train_generator.samples / batch_size\n",
    "    validationSteps= validation_generator.samples / batch_size\n",
    "    history = model.fit_generator(\n",
    "        train_generator,\n",
    "        steps_per_epoch=stepsPerEpoch,\n",
    "        epochs=epochs,\n",
    "        callbacks = callbacks_list,\n",
    "        validation_data = validation_generator,\n",
    "        validation_steps=validationSteps)\n",
    "    return history"
   ]
  },
  {
   "cell_type": "markdown",
   "metadata": {
    "colab_type": "text",
    "id": "ZY8jM59qUxsk"
   },
   "source": [
    "# 4.Experiment"
   ]
  },
  {
   "cell_type": "markdown",
   "metadata": {
    "colab_type": "text",
    "id": "KlAM5CBAURLo"
   },
   "source": [
    "## 4.1.Train/fine-tune model\n",
    "We can start to train and fine-tune our model here."
   ]
  },
  {
   "cell_type": "code",
   "execution_count": 0,
   "metadata": {
    "colab": {
     "base_uri": "https://localhost:8080/",
     "height": 3080
    },
    "colab_type": "code",
    "id": "6Yvky52W4-ty",
    "outputId": "21105769-552b-4057-c3a8-f8c64fd53e2c"
   },
   "outputs": [
    {
     "name": "stdout",
     "output_type": "stream",
     "text": [
      "loading the model and the pre-trained weights...\n",
      "Found 8144 images belonging to 196 classes.\n",
      "Found 8041 images belonging to 196 classes.\n",
      "WARNING:tensorflow:From /usr/local/lib/python3.6/dist-packages/keras/backend/tensorflow_backend.py:3445: calling dropout (from tensorflow.python.ops.nn_ops) with keep_prob is deprecated and will be removed in a future version.\n",
      "Instructions for updating:\n",
      "Please use `rate` instead of `keep_prob`. Rate should be set to `rate = 1 - keep_prob`.\n",
      "WARNING:tensorflow:From /usr/local/lib/python3.6/dist-packages/tensorflow/python/ops/math_ops.py:3066: to_int32 (from tensorflow.python.ops.math_ops) is deprecated and will be removed in a future version.\n",
      "Instructions for updating:\n",
      "Use tf.cast instead.\n",
      "Epoch 1/15\n",
      "255/254 [==============================] - 210s 825ms/step - loss: 5.5329 - acc: 0.0146 - val_loss: 4.8375 - val_acc: 0.0353\n",
      "\n",
      "Epoch 00001: val_acc improved from -inf to 0.03532, saving model to pretrained_vgg19_196_15_laioffer.h5\n",
      "Epoch 2/15\n",
      "255/254 [==============================] - 204s 802ms/step - loss: 4.5631 - acc: 0.0550 - val_loss: 4.1560 - val_acc: 0.0940\n",
      "\n",
      "Epoch 00002: val_acc improved from 0.03532 to 0.09402, saving model to pretrained_vgg19_196_15_laioffer.h5\n",
      "Epoch 3/15\n",
      "255/254 [==============================] - 200s 784ms/step - loss: 3.9401 - acc: 0.1162 - val_loss: 3.6774 - val_acc: 0.1530\n",
      "\n",
      "Epoch 00003: val_acc improved from 0.09402 to 0.15297, saving model to pretrained_vgg19_196_15_laioffer.h5\n",
      "Epoch 4/15\n",
      "255/254 [==============================] - 202s 792ms/step - loss: 3.5010 - acc: 0.1751 - val_loss: 3.3771 - val_acc: 0.2021\n",
      "\n",
      "Epoch 00004: val_acc improved from 0.15297 to 0.20209, saving model to pretrained_vgg19_196_15_laioffer.h5\n",
      "Epoch 5/15\n",
      "255/254 [==============================] - 197s 774ms/step - loss: 3.1522 - acc: 0.2277 - val_loss: 3.2186 - val_acc: 0.2326\n",
      "\n",
      "Epoch 00005: val_acc improved from 0.20209 to 0.23256, saving model to pretrained_vgg19_196_15_laioffer.h5\n",
      "Epoch 6/15\n",
      "255/254 [==============================] - 196s 769ms/step - loss: 2.9020 - acc: 0.2700 - val_loss: 3.0179 - val_acc: 0.2635\n",
      "\n",
      "Epoch 00006: val_acc improved from 0.23256 to 0.26352, saving model to pretrained_vgg19_196_15_laioffer.h5\n",
      "Epoch 7/15\n",
      "255/254 [==============================] - 196s 768ms/step - loss: 2.6789 - acc: 0.3099 - val_loss: 2.9432 - val_acc: 0.2814\n",
      "\n",
      "Epoch 00007: val_acc improved from 0.26352 to 0.28143, saving model to pretrained_vgg19_196_15_laioffer.h5\n",
      "Epoch 8/15\n",
      "255/254 [==============================] - 197s 771ms/step - loss: 2.5043 - acc: 0.3484 - val_loss: 2.9145 - val_acc: 0.2797\n",
      "\n",
      "Epoch 00008: val_acc did not improve from 0.28143\n",
      "Epoch 9/15\n",
      "255/254 [==============================] - 193s 758ms/step - loss: 2.3500 - acc: 0.3800 - val_loss: 2.8616 - val_acc: 0.3039\n",
      "\n",
      "Epoch 00009: val_acc improved from 0.28143 to 0.30394, saving model to pretrained_vgg19_196_15_laioffer.h5\n",
      "Epoch 10/15\n",
      "255/254 [==============================] - 197s 772ms/step - loss: 2.1966 - acc: 0.4016 - val_loss: 2.8842 - val_acc: 0.3062\n",
      "\n",
      "Epoch 00010: val_acc improved from 0.30394 to 0.30618, saving model to pretrained_vgg19_196_15_laioffer.h5\n",
      "Epoch 11/15\n",
      "255/254 [==============================] - 198s 777ms/step - loss: 2.0638 - acc: 0.4362 - val_loss: 2.8675 - val_acc: 0.3187\n",
      "\n",
      "Epoch 00011: val_acc improved from 0.30618 to 0.31874, saving model to pretrained_vgg19_196_15_laioffer.h5\n",
      "Epoch 12/15\n",
      "255/254 [==============================] - 195s 767ms/step - loss: 1.9454 - acc: 0.4581 - val_loss: 2.8289 - val_acc: 0.3214\n",
      "\n",
      "Epoch 00012: val_acc improved from 0.31874 to 0.32135, saving model to pretrained_vgg19_196_15_laioffer.h5\n",
      "Epoch 13/15\n",
      "255/254 [==============================] - 194s 761ms/step - loss: 1.8345 - acc: 0.4892 - val_loss: 2.8786 - val_acc: 0.3297\n",
      "\n",
      "Epoch 00013: val_acc improved from 0.32135 to 0.32969, saving model to pretrained_vgg19_196_15_laioffer.h5\n",
      "Epoch 14/15\n",
      "255/254 [==============================] - 191s 750ms/step - loss: 1.7491 - acc: 0.5051 - val_loss: 2.8550 - val_acc: 0.3338\n",
      "\n",
      "Epoch 00014: val_acc improved from 0.32969 to 0.33379, saving model to pretrained_vgg19_196_15_laioffer.h5\n",
      "Epoch 15/15\n",
      "255/254 [==============================] - 194s 762ms/step - loss: 1.6677 - acc: 0.5246 - val_loss: 2.8386 - val_acc: 0.3386\n",
      "\n",
      "Epoch 00015: val_acc improved from 0.33379 to 0.33864, saving model to pretrained_vgg19_196_15_laioffer.h5\n",
      "Epoch 1/30\n",
      "255/254 [==============================] - 197s 772ms/step - loss: 1.4761 - acc: 0.5708 - val_loss: 2.7372 - val_acc: 0.3759\n",
      "\n",
      "Epoch 00001: val_acc improved from -inf to 0.37595, saving model to finetuned_vgg19_196_30_laioffer.h5\n",
      "Epoch 2/30\n",
      "255/254 [==============================] - 191s 748ms/step - loss: 1.3195 - acc: 0.6134 - val_loss: 2.6972 - val_acc: 0.3801\n",
      "\n",
      "Epoch 00002: val_acc improved from 0.37595 to 0.38005, saving model to finetuned_vgg19_196_30_laioffer.h5\n",
      "Epoch 3/30\n",
      "255/254 [==============================] - 195s 763ms/step - loss: 1.2262 - acc: 0.6379 - val_loss: 2.7305 - val_acc: 0.3794\n",
      "\n",
      "Epoch 00003: val_acc did not improve from 0.38005\n",
      "Epoch 4/30\n",
      "255/254 [==============================] - 194s 760ms/step - loss: 1.1682 - acc: 0.6484 - val_loss: 2.6631 - val_acc: 0.3970\n",
      "\n",
      "Epoch 00004: val_acc improved from 0.38005 to 0.39697, saving model to finetuned_vgg19_196_30_laioffer.h5\n",
      "Epoch 5/30\n",
      "255/254 [==============================] - 193s 755ms/step - loss: 1.1261 - acc: 0.6652 - val_loss: 2.6806 - val_acc: 0.3953\n",
      "\n",
      "Epoch 00005: val_acc did not improve from 0.39697\n",
      "Epoch 6/30\n",
      "255/254 [==============================] - 194s 759ms/step - loss: 1.0528 - acc: 0.6813 - val_loss: 2.6255 - val_acc: 0.4103\n",
      "\n",
      "Epoch 00006: val_acc improved from 0.39697 to 0.41027, saving model to finetuned_vgg19_196_30_laioffer.h5\n",
      "Epoch 7/30\n",
      "255/254 [==============================] - 192s 755ms/step - loss: 1.0015 - acc: 0.6962 - val_loss: 2.5834 - val_acc: 0.4208\n",
      "\n",
      "Epoch 00007: val_acc improved from 0.41027 to 0.42084, saving model to finetuned_vgg19_196_30_laioffer.h5\n",
      "Epoch 8/30\n",
      "255/254 [==============================] - 193s 755ms/step - loss: 0.9497 - acc: 0.7113 - val_loss: 2.5755 - val_acc: 0.4176\n",
      "\n",
      "Epoch 00008: val_acc did not improve from 0.42084\n",
      "Epoch 9/30\n",
      "255/254 [==============================] - 193s 756ms/step - loss: 0.9120 - acc: 0.7202 - val_loss: 2.5907 - val_acc: 0.4206\n",
      "\n",
      "Epoch 00009: val_acc did not improve from 0.42084\n",
      "Epoch 10/30\n",
      "255/254 [==============================] - 191s 750ms/step - loss: 0.8940 - acc: 0.7261 - val_loss: 2.5832 - val_acc: 0.4286\n",
      "\n",
      "Epoch 00010: val_acc improved from 0.42084 to 0.42855, saving model to finetuned_vgg19_196_30_laioffer.h5\n",
      "Epoch 11/30\n",
      "255/254 [==============================] - 193s 758ms/step - loss: 0.8771 - acc: 0.7293 - val_loss: 2.5720 - val_acc: 0.4259\n",
      "\n",
      "Epoch 00011: val_acc did not improve from 0.42855\n",
      "Epoch 12/30\n",
      "255/254 [==============================] - 194s 759ms/step - loss: 0.8565 - acc: 0.7401 - val_loss: 2.5725 - val_acc: 0.4271\n",
      "\n",
      "Epoch 00012: val_acc did not improve from 0.42855\n",
      "Epoch 13/30\n",
      "255/254 [==============================] - 191s 747ms/step - loss: 0.8396 - acc: 0.7450 - val_loss: 2.6013 - val_acc: 0.4218\n",
      "\n",
      "Epoch 00013: val_acc did not improve from 0.42855\n",
      "Epoch 14/30\n",
      "255/254 [==============================] - 193s 755ms/step - loss: 0.7735 - acc: 0.7619 - val_loss: 2.5153 - val_acc: 0.4447\n",
      "\n",
      "Epoch 00014: val_acc improved from 0.42855 to 0.44472, saving model to finetuned_vgg19_196_30_laioffer.h5\n",
      "Epoch 15/30\n",
      "255/254 [==============================] - 190s 746ms/step - loss: 0.7678 - acc: 0.7609 - val_loss: 2.5118 - val_acc: 0.4386\n",
      "\n",
      "Epoch 00015: val_acc did not improve from 0.44472\n",
      "Epoch 16/30\n",
      "255/254 [==============================] - 193s 757ms/step - loss: 0.7340 - acc: 0.7739 - val_loss: 2.5461 - val_acc: 0.4424\n",
      "\n",
      "Epoch 00016: val_acc did not improve from 0.44472\n",
      "Epoch 17/30\n",
      "255/254 [==============================] - 193s 757ms/step - loss: 0.7146 - acc: 0.7792 - val_loss: 2.5433 - val_acc: 0.4430\n",
      "\n",
      "Epoch 00017: val_acc did not improve from 0.44472\n",
      "Epoch 18/30\n",
      "255/254 [==============================] - 190s 746ms/step - loss: 0.7222 - acc: 0.7756 - val_loss: 2.5213 - val_acc: 0.4467\n",
      "\n",
      "Epoch 00018: val_acc improved from 0.44472 to 0.44671, saving model to finetuned_vgg19_196_30_laioffer.h5\n",
      "Epoch 19/30\n",
      "255/254 [==============================] - 193s 757ms/step - loss: 0.6805 - acc: 0.7865 - val_loss: 2.5321 - val_acc: 0.4522\n",
      "\n",
      "Epoch 00019: val_acc improved from 0.44671 to 0.45218, saving model to finetuned_vgg19_196_30_laioffer.h5\n",
      "Epoch 20/30\n",
      "255/254 [==============================] - 190s 744ms/step - loss: 0.6693 - acc: 0.7911 - val_loss: 2.5575 - val_acc: 0.4462\n",
      "\n",
      "Epoch 00020: val_acc did not improve from 0.45218\n",
      "Epoch 21/30\n",
      "255/254 [==============================] - 193s 758ms/step - loss: 0.6592 - acc: 0.7936 - val_loss: 2.4803 - val_acc: 0.4559\n",
      "\n",
      "Epoch 00021: val_acc improved from 0.45218 to 0.45591, saving model to finetuned_vgg19_196_30_laioffer.h5\n",
      "Epoch 22/30\n",
      "255/254 [==============================] - 194s 760ms/step - loss: 0.6312 - acc: 0.7998 - val_loss: 2.5990 - val_acc: 0.4523\n",
      "\n",
      "Epoch 00022: val_acc did not improve from 0.45591\n",
      "Epoch 23/30\n",
      "255/254 [==============================] - 190s 747ms/step - loss: 0.6165 - acc: 0.7996 - val_loss: 2.5660 - val_acc: 0.4480\n",
      "\n",
      "Epoch 00023: val_acc did not improve from 0.45591\n",
      "Epoch 24/30\n",
      "255/254 [==============================] - 193s 757ms/step - loss: 0.6061 - acc: 0.8116 - val_loss: 2.5055 - val_acc: 0.4568\n",
      "\n",
      "Epoch 00024: val_acc improved from 0.45591 to 0.45678, saving model to finetuned_vgg19_196_30_laioffer.h5\n",
      "Epoch 25/30\n",
      "255/254 [==============================] - 190s 744ms/step - loss: 0.5991 - acc: 0.8141 - val_loss: 2.5424 - val_acc: 0.4516\n",
      "\n",
      "Epoch 00025: val_acc did not improve from 0.45678\n",
      "Epoch 26/30\n",
      "255/254 [==============================] - 192s 752ms/step - loss: 0.5596 - acc: 0.8232 - val_loss: 2.4863 - val_acc: 0.4631\n",
      "\n",
      "Epoch 00026: val_acc improved from 0.45678 to 0.46313, saving model to finetuned_vgg19_196_30_laioffer.h5\n",
      "Epoch 27/30\n",
      "255/254 [==============================] - 193s 759ms/step - loss: 0.5578 - acc: 0.8212 - val_loss: 2.5024 - val_acc: 0.4623\n",
      "\n",
      "Epoch 00027: val_acc did not improve from 0.46313\n",
      "Epoch 28/30\n",
      " 90/254 [=========>....................] - ETA: 57s - loss: 0.5355 - acc: 0.8375"
     ]
    }
   ],
   "source": [
    "# initialize model\n",
    "model, train_generator, validation_generator = init_model(train_dir='car_dataset/train', model_name='vgg19', val_dir='car_dataset/test', num_class=196)\n",
    "# pretrain model\n",
    "train(model, train_generator, validation_generator, num_class=196, model_name='vgg19', epochs=15)\n",
    "# fine-tune model\n",
    "history = fine_tune(model, train_generator, validation_generator, num_class=196, model_name='vgg19', epochs=30)"
   ]
  },
  {
   "cell_type": "code",
   "execution_count": 0,
   "metadata": {
    "colab": {},
    "colab_type": "code",
    "id": "XalF3W1Nsl2v"
   },
   "outputs": [],
   "source": []
  },
  {
   "cell_type": "markdown",
   "metadata": {
    "colab_type": "text",
    "id": "l0uHDz3RU4hL"
   },
   "source": [
    "## 4.2 Results"
   ]
  },
  {
   "cell_type": "markdown",
   "metadata": {
    "colab_type": "text",
    "id": "BVgX3x9OU_Cx"
   },
   "source": [
    "### 4.2.1 Accuracy"
   ]
  },
  {
   "cell_type": "code",
   "execution_count": 0,
   "metadata": {
    "colab": {
     "base_uri": "https://localhost:8080/",
     "height": 50
    },
    "colab_type": "code",
    "id": "EUB8kGALi6BA",
    "outputId": "258038a4-0905-4db1-f531-252ff8580b2d"
   },
   "outputs": [
    {
     "name": "stdout",
     "output_type": "stream",
     "text": [
      "252/252 [==============================] - 121s 480ms/step\n",
      "Validation accuracy =  0.4671060813628179\n"
     ]
    }
   ],
   "source": [
    "scores = model.evaluate_generator(validation_generator, verbose=1,steps=len(validation_generator))\n",
    "print(\"Validation accuracy = \", scores[1])"
   ]
  },
  {
   "cell_type": "markdown",
   "metadata": {
    "colab_type": "text",
    "id": "AxZag8jYVCs-"
   },
   "source": [
    "### 4.2.2 Classification report"
   ]
  },
  {
   "cell_type": "code",
   "execution_count": 0,
   "metadata": {
    "colab": {
     "base_uri": "https://localhost:8080/",
     "height": 50
    },
    "colab_type": "code",
    "id": "2z7cWMXkXCxX",
    "outputId": "5add7cdc-c5a1-4a67-abfa-d934eb9b1aa1"
   },
   "outputs": [
    {
     "name": "stdout",
     "output_type": "stream",
     "text": [
      "Found 8041 images belonging to 196 classes.\n",
      "8041/8041 [==============================] - 321s 40ms/step\n"
     ]
    }
   ],
   "source": [
    "import numpy as np\n",
    "# predicted_label_probs = model.predict_generator(validation_generator, verbose=1)\n",
    "# predicted_labels = np.argmax(predicted_label_probs, axis=1)\n",
    "\n",
    "from sklearn.metrics import confusion_matrix, classification_report, accuracy_score\n",
    "\n",
    "test_datagen = image.ImageDataGenerator(\n",
    "    preprocessing_function=vgg19.preprocess_input # preprocess_input\n",
    "    )\n",
    "\n",
    "test_generator = test_datagen.flow_from_directory(\n",
    "    \"car_dataset/test\",\n",
    "    target_size=(224, 224),\n",
    "    batch_size=1,\n",
    "    shuffle=False,    # keep data in same order as labels\n",
    "    class_mode='categorical')# only data, no labels\n",
    "\n",
    "true_labels = test_generator.classes\n",
    "\n",
    "predicted_label_probs = model.predict_generator(test_generator, verbose=1,steps=len(test_generator))\n",
    "predicted_labels = np.argmax(predicted_label_probs, axis=1)\n",
    "# predicted_labels "
   ]
  },
  {
   "cell_type": "code",
   "execution_count": 0,
   "metadata": {
    "colab": {},
    "colab_type": "code",
    "id": "H09JCU4mmtaQ"
   },
   "outputs": [],
   "source": [
    "label_map = (test_generator.class_indices)\n",
    "# label_map"
   ]
  },
  {
   "cell_type": "code",
   "execution_count": 0,
   "metadata": {
    "colab": {
     "base_uri": "https://localhost:8080/",
     "height": 3427
    },
    "colab_type": "code",
    "id": "hN4lazy-XO8N",
    "outputId": "5b3be717-8578-4a60-91e7-ba75b6c104e2"
   },
   "outputs": [
    {
     "name": "stdout",
     "output_type": "stream",
     "text": [
      "              precision    recall  f1-score   support\n",
      "\n",
      "           0       0.83      0.86      0.84        44\n",
      "           1       0.25      0.27      0.26        33\n",
      "           2       0.77      0.61      0.68        33\n",
      "           3       0.75      0.57      0.65        42\n",
      "           4       0.74      0.64      0.68        39\n",
      "           5       0.56      0.56      0.56        39\n",
      "           6       0.45      0.45      0.45        42\n",
      "           7       0.56      0.47      0.51        43\n",
      "           8       0.78      0.71      0.74        41\n",
      "           9       0.55      0.36      0.44        44\n",
      "          10       0.76      0.50      0.60        44\n",
      "          11       0.47      0.59      0.53        44\n",
      "          12       0.55      0.61      0.57        38\n",
      "          13       0.41      0.58      0.48        43\n",
      "          14       0.45      0.48      0.47        42\n",
      "          15       0.51      0.44      0.48        45\n",
      "          16       0.48      0.38      0.43        42\n",
      "          17       0.57      0.36      0.44        45\n",
      "          18       0.41      0.31      0.35        45\n",
      "          19       0.82      0.76      0.79        37\n",
      "          20       0.50      0.45      0.48        42\n",
      "          21       0.86      0.78      0.82        41\n",
      "          22       0.55      0.62      0.58        68\n",
      "          23       0.59      0.44      0.51        36\n",
      "          24       0.67      0.38      0.48        42\n",
      "          25       0.46      0.43      0.45        44\n",
      "          26       0.35      0.28      0.31        40\n",
      "          27       0.82      0.75      0.79        44\n",
      "          28       0.45      0.51      0.48        39\n",
      "          29       0.59      0.67      0.63        43\n",
      "          30       0.55      0.29      0.37        42\n",
      "          31       0.56      0.56      0.56        41\n",
      "          32       0.35      0.41      0.38        39\n",
      "          33       0.23      0.26      0.25        38\n",
      "          34       0.33      0.41      0.37        41\n",
      "          35       0.43      0.63      0.51        41\n",
      "          36       0.57      0.67      0.62        42\n",
      "          37       0.52      0.67      0.59        43\n",
      "          38       0.20      0.31      0.25        42\n",
      "          39       0.46      0.58      0.51        33\n",
      "          40       0.28      0.21      0.24        42\n",
      "          41       0.27      0.29      0.28        24\n",
      "          42       0.38      0.49      0.42        43\n",
      "          43       0.58      0.49      0.53        39\n",
      "          44       0.24      0.19      0.21        42\n",
      "          45       0.35      0.43      0.39        42\n",
      "          46       0.40      0.38      0.39        42\n",
      "          47       0.46      0.38      0.42        34\n",
      "          48       0.71      0.69      0.70        32\n",
      "          49       0.40      0.35      0.37        40\n",
      "          50       0.30      0.33      0.31        46\n",
      "          51       0.59      0.50      0.54        44\n",
      "          52       0.78      0.84      0.81        43\n",
      "          53       0.55      0.55      0.55        44\n",
      "          54       0.27      0.58      0.37        45\n",
      "          55       0.57      0.48      0.52        42\n",
      "          56       0.28      0.51      0.36        43\n",
      "          57       0.77      0.64      0.70        36\n",
      "          58       0.48      0.47      0.47        43\n",
      "          59       0.83      0.71      0.77        35\n",
      "          60       0.76      0.70      0.73        44\n",
      "          61       0.81      0.62      0.70        42\n",
      "          62       0.50      0.52      0.51        42\n",
      "          63       0.52      0.33      0.41        39\n",
      "          64       0.66      0.81      0.73        36\n",
      "          65       0.43      0.45      0.44        29\n",
      "          66       0.37      0.50      0.42        36\n",
      "          67       0.22      0.26      0.24        43\n",
      "          68       0.60      0.80      0.69        44\n",
      "          69       0.49      0.69      0.57        48\n",
      "          70       0.40      0.38      0.39        45\n",
      "          71       0.53      0.28      0.36        36\n",
      "          72       0.29      0.23      0.26        43\n",
      "          73       0.55      0.68      0.61        44\n",
      "          74       0.67      0.85      0.75        41\n",
      "          75       0.26      0.21      0.24        47\n",
      "          76       0.55      0.71      0.62        42\n",
      "          77       0.77      0.45      0.57        38\n",
      "          78       0.53      0.53      0.53        40\n",
      "          79       0.38      0.41      0.39        44\n",
      "          80       0.51      0.61      0.55        46\n",
      "          81       0.66      0.57      0.61        44\n",
      "          82       0.31      0.37      0.34        43\n",
      "          83       0.43      0.59      0.49        41\n",
      "          84       0.70      0.47      0.56        30\n",
      "          85       0.52      0.45      0.48        38\n",
      "          86       0.53      0.52      0.53        44\n",
      "          87       0.33      0.37      0.34        41\n",
      "          88       0.65      0.62      0.64        45\n",
      "          89       0.51      0.52      0.52        42\n",
      "          90       0.36      0.36      0.36        42\n",
      "          91       0.62      0.39      0.48        38\n",
      "          92       0.28      0.17      0.21        46\n",
      "          93       0.26      0.26      0.26        42\n",
      "          94       0.24      0.25      0.24        40\n",
      "          95       0.31      0.37      0.34        38\n",
      "          96       0.43      0.55      0.48        38\n",
      "          97       0.29      0.44      0.35        43\n",
      "          98       0.18      0.26      0.21        43\n",
      "          99       0.55      0.53      0.54        40\n",
      "         100       0.39      0.38      0.38        40\n",
      "         101       0.28      0.33      0.30        43\n",
      "         102       0.79      0.57      0.66        46\n",
      "         103       0.61      0.40      0.49        42\n",
      "         104       0.65      0.32      0.43        41\n",
      "         105       0.75      0.73      0.74        45\n",
      "         106       0.51      0.47      0.49        43\n",
      "         107       0.86      0.62      0.72        40\n",
      "         108       0.17      0.19      0.18        32\n",
      "         109       0.43      0.46      0.44        46\n",
      "         110       0.62      0.38      0.47        42\n",
      "         111       0.14      0.10      0.11        42\n",
      "         112       0.12      0.08      0.10        39\n",
      "         113       0.38      0.24      0.30        45\n",
      "         114       0.58      0.38      0.46        39\n",
      "         115       0.59      0.38      0.46        34\n",
      "         116       0.45      0.54      0.49        35\n",
      "         117       0.46      0.29      0.36        41\n",
      "         118       0.24      0.21      0.23        42\n",
      "         119       0.32      0.58      0.41        43\n",
      "         120       0.40      0.46      0.43        41\n",
      "         121       0.37      0.34      0.35        44\n",
      "         122       0.38      0.41      0.40        41\n",
      "         123       0.38      0.55      0.45        42\n",
      "         124       0.33      0.32      0.32        44\n",
      "         125       0.17      0.17      0.17        41\n",
      "         126       0.26      0.27      0.27        41\n",
      "         127       0.38      0.50      0.43        38\n",
      "         128       0.44      0.38      0.41        40\n",
      "         129       0.46      0.61      0.52        36\n",
      "         130       0.43      0.38      0.41        42\n",
      "         131       0.70      0.54      0.61        39\n",
      "         132       0.76      0.63      0.69        35\n",
      "         133       0.44      0.32      0.37        34\n",
      "         134       0.42      0.41      0.42        46\n",
      "         135       0.41      0.25      0.31        44\n",
      "         136       0.47      0.56      0.51        32\n",
      "         137       0.57      0.65      0.61        43\n",
      "         138       0.35      0.60      0.44        35\n",
      "         139       0.56      0.43      0.49        42\n",
      "         140       0.62      0.54      0.58        37\n",
      "         141       0.25      0.38      0.30        40\n",
      "         142       0.58      0.45      0.51        42\n",
      "         143       0.47      0.56      0.51        43\n",
      "         144       0.53      0.51      0.52        41\n",
      "         145       0.59      0.50      0.54        44\n",
      "         146       0.40      0.40      0.40        40\n",
      "         147       0.43      0.38      0.41        39\n",
      "         148       0.46      0.39      0.42        46\n",
      "         149       0.50      0.57      0.53        37\n",
      "         150       0.43      0.55      0.48        44\n",
      "         151       0.45      0.61      0.52        44\n",
      "         152       0.45      0.41      0.43        44\n",
      "         153       0.71      0.67      0.69        36\n",
      "         154       0.38      0.28      0.32        43\n",
      "         155       0.52      0.38      0.44        37\n",
      "         156       0.39      0.32      0.35        44\n",
      "         157       0.36      0.31      0.33        29\n",
      "         158       0.51      0.44      0.48        45\n",
      "         159       0.46      0.27      0.34        41\n",
      "         160       0.29      0.42      0.34        38\n",
      "         161       0.43      0.53      0.47        40\n",
      "         162       0.29      0.21      0.24        38\n",
      "         163       0.33      0.44      0.38        39\n",
      "         164       0.48      0.50      0.49        42\n",
      "         165       0.41      0.43      0.42        35\n",
      "         166       0.37      0.24      0.29        45\n",
      "         167       0.34      0.32      0.33        44\n",
      "         168       0.32      0.51      0.40        43\n",
      "         169       0.37      0.52      0.43        44\n",
      "         170       0.44      0.49      0.46        43\n",
      "         171       0.45      0.47      0.46        40\n",
      "         172       0.64      0.43      0.52        37\n",
      "         173       0.56      0.46      0.51        48\n",
      "         174       0.41      0.33      0.37        45\n",
      "         175       0.56      0.67      0.61        43\n",
      "         176       0.68      0.58      0.63        45\n",
      "         177       0.59      0.44      0.51        45\n",
      "         178       0.36      0.30      0.33        40\n",
      "         179       0.65      0.48      0.55        42\n",
      "         180       0.76      0.72      0.74        43\n",
      "         181       0.66      0.45      0.54        42\n",
      "         182       0.40      0.52      0.46        44\n",
      "         183       0.73      0.49      0.58        39\n",
      "         184       0.49      0.55      0.52        44\n",
      "         185       0.28      0.37      0.32        41\n",
      "         186       0.56      0.54      0.55        41\n",
      "         187       0.37      0.50      0.43        38\n",
      "         188       0.67      0.60      0.63        40\n",
      "         189       0.56      0.46      0.51        39\n",
      "         190       0.52      0.53      0.53        43\n",
      "         191       0.40      0.36      0.38        45\n",
      "         192       0.37      0.54      0.44        41\n",
      "         193       0.38      0.55      0.45        42\n",
      "         194       0.37      0.35      0.36        46\n",
      "         195       0.84      0.78      0.81        27\n",
      "\n",
      "   micro avg       0.47      0.47      0.47      8041\n",
      "   macro avg       0.48      0.47      0.47      8041\n",
      "weighted avg       0.48      0.47      0.47      8041\n",
      "\n"
     ]
    }
   ],
   "source": [
    "# print(confusion_matrix(true_labels, predicted_labels))\n",
    "print(classification_report(true_labels, predicted_labels))\n",
    "# print(\"Accuracy = \", accuracy_score(true_labels, predicted_labels))"
   ]
  },
  {
   "cell_type": "markdown",
   "metadata": {
    "colab_type": "text",
    "id": "WhtfZiYjVK3B"
   },
   "source": [
    "### 4.2.3 Visualize confusion matrix"
   ]
  },
  {
   "cell_type": "code",
   "execution_count": 0,
   "metadata": {
    "colab": {},
    "colab_type": "code",
    "id": "EhGxyv1r-mab"
   },
   "outputs": [],
   "source": [
    "import matplotlib.pyplot as plt\n",
    "import itertools\n",
    "\n",
    "def plot_confusion_matrix(cm, classes,\n",
    "                          normalize=False,\n",
    "                          title='Confusion matrix',\n",
    "                          cmap=plt.cm.Blues):\n",
    "    \"\"\"\n",
    "    This function prints and plots the confusion matrix.\n",
    "    Normalization can be applied by setting `normalize=True`.\n",
    "    \"\"\"\n",
    "    if normalize:\n",
    "        cm = cm.astype('float') / cm.sum(axis=1)[:, np.newaxis]\n",
    "        print(\"Normalized confusion matrix\")\n",
    "    else:\n",
    "        print('Confusion matrix, without normalization')\n",
    "\n",
    "    print(cm)\n",
    "\n",
    "    plt.imshow(cm, interpolation='nearest', cmap=cmap)\n",
    "    plt.title(title)\n",
    "    plt.colorbar()\n",
    "    tick_marks = np.arange(len(classes))\n",
    "    plt.xticks(tick_marks, classes, rotation=45)\n",
    "    plt.yticks(tick_marks, classes)\n",
    "\n",
    "    fmt = '.2f' if normalize else 'd'\n",
    "    thresh = cm.max() / 2.\n",
    "    for i, j in itertools.product(range(cm.shape[0]), range(cm.shape[1])):\n",
    "        plt.text(j, i, format(cm[i, j], fmt),\n",
    "                 horizontalalignment=\"center\",\n",
    "                 color=\"white\" if cm[i, j] > thresh else \"black\")\n",
    "\n",
    "    plt.ylabel('True label')\n",
    "    plt.xlabel('Predicted label')\n",
    "    plt.tight_layout()"
   ]
  },
  {
   "cell_type": "code",
   "execution_count": 0,
   "metadata": {
    "colab": {
     "base_uri": "https://localhost:8080/",
     "height": 754
    },
    "colab_type": "code",
    "id": "Ar4Srlj2-ndE",
    "outputId": "bf0f1548-6844-484d-e361-dd084f90f4b4"
   },
   "outputs": [
    {
     "name": "stdout",
     "output_type": "stream",
     "text": [
      "Normalized confusion matrix\n",
      "[[1.         0.         0.         0.         0.         0.\n",
      "  0.         0.         0.         0.        ]\n",
      " [0.         1.         0.         0.         0.         0.\n",
      "  0.         0.         0.         0.        ]\n",
      " [0.         0.         1.         0.         0.         0.\n",
      "  0.         0.         0.         0.        ]\n",
      " [0.         0.         0.         0.96       0.         0.\n",
      "  0.         0.04       0.         0.        ]\n",
      " [0.         0.         0.         0.         0.86206897 0.10344828\n",
      "  0.03448276 0.         0.         0.        ]\n",
      " [0.         0.         0.         0.03333333 0.1        0.73333333\n",
      "  0.13333333 0.         0.         0.        ]\n",
      " [0.         0.         0.         0.         0.         0.23076923\n",
      "  0.73076923 0.03846154 0.         0.        ]\n",
      " [0.         0.04761905 0.         0.         0.         0.\n",
      "  0.         0.95238095 0.         0.        ]\n",
      " [0.         0.         0.         0.         0.         0.\n",
      "  0.         0.         1.         0.        ]\n",
      " [0.         0.         0.         0.         0.         0.\n",
      "  0.         0.         0.         1.        ]]\n"
     ]
    },
    {
     "data": {
      "image/png": "[encoded data removed]",
      "text/plain": [
       "<Figure size 576x396 with 2 Axes>"
      ]
     },
     "metadata": {
      "tags": []
     },
     "output_type": "display_data"
    }
   ],
   "source": [
    "cnf_matrix = confusion_matrix(true_labels, predicted_labels)\n",
    "# Plot non-normalized confusion matrix\n",
    "# plt.figure()\n",
    "# plot_confusion_matrix(cnf_matrix, classes=list(label_map.keys()),\n",
    "#                       title='Confusion matrix, without normalization')\n",
    "\n",
    "# Plot normalized confusion matrix\n",
    "plt.figure()\n",
    "plot_confusion_matrix(cnf_matrix[:10,:10], classes=list(label_map.keys())[:10], normalize=True,\n",
    "                      title='Normalized confusion matrix')\n",
    "\n",
    "plt.show()"
   ]
  },
  {
   "cell_type": "markdown",
   "metadata": {
    "colab_type": "text",
    "id": "xAp1JtpS-7cT"
   },
   "source": [
    "### 4.2.4 Visualize training history"
   ]
  },
  {
   "cell_type": "code",
   "execution_count": 0,
   "metadata": {
    "colab": {},
    "colab_type": "code",
    "id": "57aWJ0xkCofu"
   },
   "outputs": [],
   "source": [
    "def plot_history(history):\n",
    "    loss_list = [s for s in history.history.keys() if 'loss' in s and 'val' not in s]\n",
    "    val_loss_list = [s for s in history.history.keys() if 'loss' in s and 'val' in s]\n",
    "    acc_list = [s for s in history.history.keys() if 'acc' in s and 'val' not in s]\n",
    "    val_acc_list = [s for s in history.history.keys() if 'acc' in s and 'val' in s]\n",
    "    \n",
    "    if len(loss_list) == 0:\n",
    "        print('Loss is missing in history')\n",
    "        return \n",
    "    \n",
    "    ## As loss always exists\n",
    "    epochs = range(1,len(history.history[loss_list[0]]) + 1)\n",
    "    \n",
    "    ## Loss\n",
    "    plt.figure(1)\n",
    "    for l in loss_list:\n",
    "        plt.plot(epochs, history.history[l], 'b', label='Training loss (' + str(str(format(history.history[l][-1],'.5f'))+')'))\n",
    "    for l in val_loss_list:\n",
    "        plt.plot(epochs, history.history[l], 'g', label='Validation loss (' + str(str(format(history.history[l][-1],'.5f'))+')'))\n",
    "    \n",
    "    plt.title('Loss')\n",
    "    plt.xlabel('Epochs')\n",
    "    plt.ylabel('Loss')\n",
    "    plt.legend()\n",
    "    \n",
    "    ## Accuracy\n",
    "    plt.figure(2)\n",
    "    for l in acc_list:\n",
    "        plt.plot(epochs, history.history[l], 'b', label='Training accuracy (' + str(format(history.history[l][-1],'.5f'))+')')\n",
    "    for l in val_acc_list:    \n",
    "        plt.plot(epochs, history.history[l], 'g', label='Validation accuracy (' + str(format(history.history[l][-1],'.5f'))+')')\n",
    "\n",
    "    plt.title('Accuracy')\n",
    "    plt.xlabel('Epochs')\n",
    "    plt.ylabel('Accuracy')\n",
    "    plt.legend()\n",
    "    plt.show()"
   ]
  },
  {
   "cell_type": "code",
   "execution_count": 0,
   "metadata": {
    "colab": {
     "base_uri": "https://localhost:8080/",
     "height": 735
    },
    "colab_type": "code",
    "id": "4Ut9-hyVqL8S",
    "outputId": "ac54ed95-adbb-44a3-b39e-e2cfa881a6e2"
   },
   "outputs": [
    {
     "data": {
      "image/png": "[encoded data removed]",
      "text/plain": [
       "<Figure size 576x396 with 1 Axes>"
      ]
     },
     "metadata": {
      "tags": []
     },
     "output_type": "display_data"
    },
    {
     "data": {
      "image/png": "[encoded data removed]",
      "text/plain": [
       "<Figure size 576x396 with 1 Axes>"
      ]
     },
     "metadata": {
      "tags": []
     },
     "output_type": "display_data"
    }
   ],
   "source": [
    "plot_history(history)"
   ]
  },
  {
   "cell_type": "code",
   "execution_count": 0,
   "metadata": {
    "colab": {},
    "colab_type": "code",
    "id": "IW71-SVwCLKI"
   },
   "outputs": [],
   "source": [
    "# from sklearn.metrics import recall_score, classification_report, auc, roc_curve\n",
    "# cm = confusion_matrix(true_labels, predicted_labels)\n",
    "# print(cm)\n",
    "\n",
    "\n",
    "# plt.plot(history.history['acc'])\n",
    "# plt.plot(history.history['val_acc'])\n",
    "# plt.title('Model accuracy')\n",
    "# plt.ylabel('Accuracy')\n",
    "# plt.xlabel('Epoch')\n",
    "# plt.legend(['Train', 'Test'], loc='upper left')\n",
    "# plt.show()"
   ]
  },
  {
   "cell_type": "code",
   "execution_count": 0,
   "metadata": {
    "colab": {},
    "colab_type": "code",
    "id": "FJUTP4WzFExR"
   },
   "outputs": [],
   "source": [
    "# predicted_labels"
   ]
  },
  {
   "cell_type": "markdown",
   "metadata": {
    "colab_type": "text",
    "id": "cAaA7xwXVT_S"
   },
   "source": [
    "### 4.2.5 Save model"
   ]
  },
  {
   "cell_type": "code",
   "execution_count": 0,
   "metadata": {
    "colab": {},
    "colab_type": "code",
    "id": "jsdd0tOfZX7X"
   },
   "outputs": [],
   "source": [
    "model.save(\"model.h5\")"
   ]
  },
  {
   "cell_type": "markdown",
   "metadata": {
    "colab_type": "text",
    "id": "oZ1V3wTWVXz1"
   },
   "source": [
    "### 4.2.6 Load model"
   ]
  },
  {
   "cell_type": "code",
   "execution_count": 0,
   "metadata": {
    "colab": {},
    "colab_type": "code",
    "id": "Wv2bP9CPflz1"
   },
   "outputs": [],
   "source": [
    "from keras.models import load_model\n",
    "new_model = load_model(\"model.h5\")"
   ]
  },
  {
   "cell_type": "code",
   "execution_count": 0,
   "metadata": {
    "colab": {
     "base_uri": "https://localhost:8080/",
     "height": 34
    },
    "colab_type": "code",
    "id": "ItR6f9WFft7t",
    "outputId": "60d35f6e-bd22-4a3c-f56a-741253bb8bf3"
   },
   "outputs": [
    {
     "name": "stdout",
     "output_type": "stream",
     "text": [
      "8041/8041 [==============================] - 321s 40ms/step\n"
     ]
    }
   ],
   "source": [
    "new_predicted_label_probs = new_model.predict_generator(test_generator, verbose=1,steps=len(test_generator))\n",
    "new_predicted_labels = np.argmax(new_predicted_label_probs, axis=1)"
   ]
  },
  {
   "cell_type": "code",
   "execution_count": 0,
   "metadata": {
    "colab": {
     "base_uri": "https://localhost:8080/",
     "height": 3562
    },
    "colab_type": "code",
    "id": "9XsK2BZCf_77",
    "outputId": "d37306bf-f846-4b2c-de6f-b2463922f80c"
   },
   "outputs": [
    {
     "name": "stdout",
     "output_type": "stream",
     "text": [
      "[[38  0  0 ...  0  0  0]\n",
      " [ 0  9  0 ...  0  0  0]\n",
      " [ 0  0 20 ...  0  0  0]\n",
      " ...\n",
      " [ 0  0  0 ... 23  0  0]\n",
      " [ 0  0  0 ...  2 16  0]\n",
      " [ 0  0  0 ...  0  0 21]]\n",
      "              precision    recall  f1-score   support\n",
      "\n",
      "           0       0.83      0.86      0.84        44\n",
      "           1       0.25      0.27      0.26        33\n",
      "           2       0.77      0.61      0.68        33\n",
      "           3       0.75      0.57      0.65        42\n",
      "           4       0.74      0.64      0.68        39\n",
      "           5       0.56      0.56      0.56        39\n",
      "           6       0.45      0.45      0.45        42\n",
      "           7       0.56      0.47      0.51        43\n",
      "           8       0.78      0.71      0.74        41\n",
      "           9       0.55      0.36      0.44        44\n",
      "          10       0.76      0.50      0.60        44\n",
      "          11       0.47      0.59      0.53        44\n",
      "          12       0.55      0.61      0.57        38\n",
      "          13       0.41      0.58      0.48        43\n",
      "          14       0.45      0.48      0.47        42\n",
      "          15       0.51      0.44      0.48        45\n",
      "          16       0.48      0.38      0.43        42\n",
      "          17       0.57      0.36      0.44        45\n",
      "          18       0.41      0.31      0.35        45\n",
      "          19       0.82      0.76      0.79        37\n",
      "          20       0.50      0.45      0.48        42\n",
      "          21       0.86      0.78      0.82        41\n",
      "          22       0.55      0.62      0.58        68\n",
      "          23       0.59      0.44      0.51        36\n",
      "          24       0.67      0.38      0.48        42\n",
      "          25       0.46      0.43      0.45        44\n",
      "          26       0.35      0.28      0.31        40\n",
      "          27       0.82      0.75      0.79        44\n",
      "          28       0.45      0.51      0.48        39\n",
      "          29       0.59      0.67      0.63        43\n",
      "          30       0.55      0.29      0.37        42\n",
      "          31       0.56      0.56      0.56        41\n",
      "          32       0.35      0.41      0.38        39\n",
      "          33       0.23      0.26      0.25        38\n",
      "          34       0.33      0.41      0.37        41\n",
      "          35       0.43      0.63      0.51        41\n",
      "          36       0.57      0.67      0.62        42\n",
      "          37       0.52      0.67      0.59        43\n",
      "          38       0.20      0.31      0.25        42\n",
      "          39       0.46      0.58      0.51        33\n",
      "          40       0.28      0.21      0.24        42\n",
      "          41       0.27      0.29      0.28        24\n",
      "          42       0.38      0.49      0.42        43\n",
      "          43       0.58      0.49      0.53        39\n",
      "          44       0.24      0.19      0.21        42\n",
      "          45       0.35      0.43      0.39        42\n",
      "          46       0.40      0.38      0.39        42\n",
      "          47       0.46      0.38      0.42        34\n",
      "          48       0.71      0.69      0.70        32\n",
      "          49       0.40      0.35      0.37        40\n",
      "          50       0.30      0.33      0.31        46\n",
      "          51       0.59      0.50      0.54        44\n",
      "          52       0.78      0.84      0.81        43\n",
      "          53       0.55      0.55      0.55        44\n",
      "          54       0.27      0.58      0.37        45\n",
      "          55       0.57      0.48      0.52        42\n",
      "          56       0.28      0.51      0.36        43\n",
      "          57       0.77      0.64      0.70        36\n",
      "          58       0.48      0.47      0.47        43\n",
      "          59       0.83      0.71      0.77        35\n",
      "          60       0.76      0.70      0.73        44\n",
      "          61       0.81      0.62      0.70        42\n",
      "          62       0.50      0.52      0.51        42\n",
      "          63       0.52      0.33      0.41        39\n",
      "          64       0.66      0.81      0.73        36\n",
      "          65       0.43      0.45      0.44        29\n",
      "          66       0.37      0.50      0.42        36\n",
      "          67       0.22      0.26      0.24        43\n",
      "          68       0.60      0.80      0.69        44\n",
      "          69       0.49      0.69      0.57        48\n",
      "          70       0.40      0.38      0.39        45\n",
      "          71       0.53      0.28      0.36        36\n",
      "          72       0.29      0.23      0.26        43\n",
      "          73       0.55      0.68      0.61        44\n",
      "          74       0.67      0.85      0.75        41\n",
      "          75       0.26      0.21      0.24        47\n",
      "          76       0.55      0.71      0.62        42\n",
      "          77       0.77      0.45      0.57        38\n",
      "          78       0.53      0.53      0.53        40\n",
      "          79       0.38      0.41      0.39        44\n",
      "          80       0.51      0.61      0.55        46\n",
      "          81       0.66      0.57      0.61        44\n",
      "          82       0.31      0.37      0.34        43\n",
      "          83       0.43      0.59      0.49        41\n",
      "          84       0.70      0.47      0.56        30\n",
      "          85       0.52      0.45      0.48        38\n",
      "          86       0.53      0.52      0.53        44\n",
      "          87       0.33      0.37      0.34        41\n",
      "          88       0.65      0.62      0.64        45\n",
      "          89       0.51      0.52      0.52        42\n",
      "          90       0.36      0.36      0.36        42\n",
      "          91       0.62      0.39      0.48        38\n",
      "          92       0.28      0.17      0.21        46\n",
      "          93       0.26      0.26      0.26        42\n",
      "          94       0.24      0.25      0.24        40\n",
      "          95       0.31      0.37      0.34        38\n",
      "          96       0.43      0.55      0.48        38\n",
      "          97       0.29      0.44      0.35        43\n",
      "          98       0.18      0.26      0.21        43\n",
      "          99       0.55      0.53      0.54        40\n",
      "         100       0.39      0.38      0.38        40\n",
      "         101       0.28      0.33      0.30        43\n",
      "         102       0.79      0.57      0.66        46\n",
      "         103       0.61      0.40      0.49        42\n",
      "         104       0.65      0.32      0.43        41\n",
      "         105       0.75      0.73      0.74        45\n",
      "         106       0.51      0.47      0.49        43\n",
      "         107       0.86      0.62      0.72        40\n",
      "         108       0.17      0.19      0.18        32\n",
      "         109       0.43      0.46      0.44        46\n",
      "         110       0.62      0.38      0.47        42\n",
      "         111       0.14      0.10      0.11        42\n",
      "         112       0.12      0.08      0.10        39\n",
      "         113       0.38      0.24      0.30        45\n",
      "         114       0.58      0.38      0.46        39\n",
      "         115       0.59      0.38      0.46        34\n",
      "         116       0.45      0.54      0.49        35\n",
      "         117       0.46      0.29      0.36        41\n",
      "         118       0.24      0.21      0.23        42\n",
      "         119       0.32      0.58      0.41        43\n",
      "         120       0.40      0.46      0.43        41\n",
      "         121       0.37      0.34      0.35        44\n",
      "         122       0.38      0.41      0.40        41\n",
      "         123       0.38      0.55      0.45        42\n",
      "         124       0.33      0.32      0.32        44\n",
      "         125       0.17      0.17      0.17        41\n",
      "         126       0.26      0.27      0.27        41\n",
      "         127       0.38      0.50      0.43        38\n",
      "         128       0.44      0.38      0.41        40\n",
      "         129       0.46      0.61      0.52        36\n",
      "         130       0.43      0.38      0.41        42\n",
      "         131       0.70      0.54      0.61        39\n",
      "         132       0.76      0.63      0.69        35\n",
      "         133       0.44      0.32      0.37        34\n",
      "         134       0.42      0.41      0.42        46\n",
      "         135       0.41      0.25      0.31        44\n",
      "         136       0.47      0.56      0.51        32\n",
      "         137       0.57      0.65      0.61        43\n",
      "         138       0.35      0.60      0.44        35\n",
      "         139       0.56      0.43      0.49        42\n",
      "         140       0.62      0.54      0.58        37\n",
      "         141       0.25      0.38      0.30        40\n",
      "         142       0.58      0.45      0.51        42\n",
      "         143       0.47      0.56      0.51        43\n",
      "         144       0.53      0.51      0.52        41\n",
      "         145       0.59      0.50      0.54        44\n",
      "         146       0.40      0.40      0.40        40\n",
      "         147       0.43      0.38      0.41        39\n",
      "         148       0.46      0.39      0.42        46\n",
      "         149       0.50      0.57      0.53        37\n",
      "         150       0.43      0.55      0.48        44\n",
      "         151       0.45      0.61      0.52        44\n",
      "         152       0.45      0.41      0.43        44\n",
      "         153       0.71      0.67      0.69        36\n",
      "         154       0.38      0.28      0.32        43\n",
      "         155       0.52      0.38      0.44        37\n",
      "         156       0.39      0.32      0.35        44\n",
      "         157       0.36      0.31      0.33        29\n",
      "         158       0.51      0.44      0.48        45\n",
      "         159       0.46      0.27      0.34        41\n",
      "         160       0.29      0.42      0.34        38\n",
      "         161       0.43      0.53      0.47        40\n",
      "         162       0.29      0.21      0.24        38\n",
      "         163       0.33      0.44      0.38        39\n",
      "         164       0.48      0.50      0.49        42\n",
      "         165       0.41      0.43      0.42        35\n",
      "         166       0.37      0.24      0.29        45\n",
      "         167       0.34      0.32      0.33        44\n",
      "         168       0.32      0.51      0.40        43\n",
      "         169       0.37      0.52      0.43        44\n",
      "         170       0.44      0.49      0.46        43\n",
      "         171       0.45      0.47      0.46        40\n",
      "         172       0.64      0.43      0.52        37\n",
      "         173       0.56      0.46      0.51        48\n",
      "         174       0.41      0.33      0.37        45\n",
      "         175       0.56      0.67      0.61        43\n",
      "         176       0.68      0.58      0.63        45\n",
      "         177       0.59      0.44      0.51        45\n",
      "         178       0.36      0.30      0.33        40\n",
      "         179       0.65      0.48      0.55        42\n",
      "         180       0.76      0.72      0.74        43\n",
      "         181       0.66      0.45      0.54        42\n",
      "         182       0.40      0.52      0.46        44\n",
      "         183       0.73      0.49      0.58        39\n",
      "         184       0.49      0.55      0.52        44\n",
      "         185       0.28      0.37      0.32        41\n",
      "         186       0.56      0.54      0.55        41\n",
      "         187       0.37      0.50      0.43        38\n",
      "         188       0.67      0.60      0.63        40\n",
      "         189       0.56      0.46      0.51        39\n",
      "         190       0.52      0.53      0.53        43\n",
      "         191       0.40      0.36      0.38        45\n",
      "         192       0.37      0.54      0.44        41\n",
      "         193       0.38      0.55      0.45        42\n",
      "         194       0.37      0.35      0.36        46\n",
      "         195       0.84      0.78      0.81        27\n",
      "\n",
      "   micro avg       0.47      0.47      0.47      8041\n",
      "   macro avg       0.48      0.47      0.47      8041\n",
      "weighted avg       0.48      0.47      0.47      8041\n",
      "\n",
      "Accuracy =  0.467479169257555\n"
     ]
    }
   ],
   "source": [
    "print(confusion_matrix(true_labels, predicted_labels))\n",
    "print(classification_report(true_labels, predicted_labels))\n",
    "print(\"Accuracy = \", accuracy_score(true_labels, predicted_labels))"
   ]
  },
  {
   "cell_type": "code",
   "execution_count": 0,
   "metadata": {
    "colab": {},
    "colab_type": "code",
    "id": "qF0N7XSqqBhG"
   },
   "outputs": [],
   "source": []
  }
 ],
 "metadata": {
  "accelerator": "GPU",
  "colab": {
   "collapsed_sections": [],
   "name": "proj2_car_classification_new.ipynb",
   "provenance": [],
   "version": "0.3.2"
  },
  "kernelspec": {
   "display_name": "Python 3",
   "language": "python",
   "name": "python3"
  },
  "language_info": {
   "codemirror_mode": {
    "name": "ipython",
    "version": 3
   },
   "file_extension": ".py",
   "mimetype": "text/x-python",
   "name": "python",
   "nbconvert_exporter": "python",
   "pygments_lexer": "ipython3",
   "version": "3.6.5"
  }
 },
 "nbformat": 4,
 "nbformat_minor": 1
}
